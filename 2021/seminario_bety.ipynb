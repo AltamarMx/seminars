{
 "cells": [
  {
   "cell_type": "markdown",
   "id": "theoretical-fisher",
   "metadata": {
    "slideshow": {
     "slide_type": "slide"
    }
   },
   "source": [
    "# Python en la academia: Investigación y prototipado rápido\n",
    " ## Dr. Guillermo Barrios del Valle\n",
    " ###### gbv@ier.unam.mx"
   ]
  },
  {
   "cell_type": "markdown",
   "id": "protecting-ocean",
   "metadata": {
    "slideshow": {
     "slide_type": "fragment"
    }
   },
   "source": [
    "###### Instituto de Energía en Edificaciones"
   ]
  },
  {
   "cell_type": "markdown",
   "id": "magnetic-guitar",
   "metadata": {
    "slideshow": {
     "slide_type": "fragment"
    }
   },
   "source": [
    "###### Grupo de Energía en Edificaciones"
   ]
  },
  {
   "cell_type": "markdown",
   "id": "intermediate-culture",
   "metadata": {
    "slideshow": {
     "slide_type": "slide"
    }
   },
   "source": [
    "\n",
    "En esta charla se presentarán algunos usos que se le da a Python en el Instituto de Energías Renovables para el análisis de datos y el desarrollo de prototipado rápido. Se abordarán temas como la libreta de Jupyter, MicroPython, Tkinter y PyQtGraph.\n",
    "Al final se darán algunas recomendaciones de herramientas para el buen manejo de proyectos de ciencia de datos.\n",
    "Guillermo Barrios es un entusiasta de las tecnologías, especialmente de las libres e intentará no hacer el ridículo haciendo un live-coding, la práctica menos recomendada para las presentaciones.\n"
   ]
  },
  {
   "cell_type": "code",
   "execution_count": 87,
   "id": "offensive-million",
   "metadata": {
    "slideshow": {
     "slide_type": "slide"
    }
   },
   "outputs": [],
   "source": [
    "\n",
    "objetivo  = \"En esta charla se presentarán algunos usos que se le da a Python en el Instituto de Energías Renovables para el análisis de datos y el desarrollo de prototipado rápido. Se abordarán temas como la libreta de Jupyter, MicroPython, Tkinter y PyQtGraph. Al final se darán algunas recomendaciones de herramientas para el buen manejo de proyectos de ciencia de datos. Guillermo Barrios es un entusiasta de las tecnologías, especialmente de las libres e intentará no hacer el ridículo haciendo un live-coding, la práctica menos recomendada para las presentaciones.\"\n",
    " "
   ]
  },
  {
   "cell_type": "code",
   "execution_count": 88,
   "id": "affected-score",
   "metadata": {
    "slideshow": {
     "slide_type": "fragment"
    }
   },
   "outputs": [
    {
     "name": "stdout",
     "output_type": "stream",
     "text": [
      "En esta charla se presentarán algunos usos que se le da a Python en el Instituto de Energías Renovables para el análisis de datos y el desarrollo de prototipado rápido. Se abordarán temas como la libreta de Jupyter, MicroPython, Tkinter y PyQtGraph. Al final se darán algunas recomendaciones de herramientas para el buen manejo de proyectos de ciencia de datos. Guillermo Barrios es un entusiasta de las tecnologías, especialmente de las libres e intentará no hacer el ridículo haciendo un live-coding, la práctica menos recomendada para las presentaciones.\n"
     ]
    }
   ],
   "source": [
    "print(objetivo)"
   ]
  },
  {
   "cell_type": "code",
   "execution_count": 89,
   "id": "serious-wildlife",
   "metadata": {
    "slideshow": {
     "slide_type": "slide"
    }
   },
   "outputs": [],
   "source": [
    "objetivos = [objetivo[58:64],objetivo[112:129],objetivo[149:167],objetivo[196:214],\n",
    "            objetivo[216:227],objetivo[229:248],objetivo[276:291],objetivo[490:501]]\n",
    " "
   ]
  },
  {
   "cell_type": "code",
   "execution_count": 91,
   "id": "annual-marsh",
   "metadata": {
    "slideshow": {
     "slide_type": "fragment"
    }
   },
   "outputs": [
    {
     "name": "stdout",
     "output_type": "stream",
     "text": [
      "Python\n",
      "análisis de datos\n",
      "prototipado rápido\n",
      "libreta de Jupyter\n",
      "MicroPython\n",
      "Tkinter y PyQtGraph\n",
      "recomendaciones\n",
      "live-coding\n"
     ]
    }
   ],
   "source": [
    "for puntos in objetivos:\n",
    "    print(puntos)"
   ]
  }
 ],
 "metadata": {
  "celltoolbar": "Slideshow",
  "kernelspec": {
   "display_name": "Python 3",
   "language": "python",
   "name": "python3"
  },
  "language_info": {
   "codemirror_mode": {
    "name": "ipython",
    "version": 3
   },
   "file_extension": ".py",
   "mimetype": "text/x-python",
   "name": "python",
   "nbconvert_exporter": "python",
   "pygments_lexer": "ipython3",
   "version": "3.9.1"
  }
 },
 "nbformat": 4,
 "nbformat_minor": 5
}
