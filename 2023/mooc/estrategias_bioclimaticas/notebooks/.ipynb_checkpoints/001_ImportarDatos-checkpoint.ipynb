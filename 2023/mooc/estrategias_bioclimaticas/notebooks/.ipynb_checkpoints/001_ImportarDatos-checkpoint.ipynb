{
 "cells": [
  {
   "cell_type": "code",
   "execution_count": 1,
   "id": "5b9dfeb9-92e2-4489-b811-d9dfc12b5144",
   "metadata": {},
   "outputs": [],
   "source": [
    "import pandas as pd\n",
    "import matplotlib.pyplot as plt\n",
    "from iertools.read import read_sql"
   ]
  },
  {
   "cell_type": "code",
   "execution_count": 2,
   "id": "71e49ab9-76ca-4bf6-8b6a-a6ef1cc553d4",
   "metadata": {},
   "outputs": [],
   "source": [
    "f = '../osm/230813_EF_2_a0p2/run/eplusout.sql'\n",
    "data = read_sql(f,read='data')\n",
    "a0p2 = data.data.copy()\n",
    "\n",
    "f = '../osm/230813_EF_2_a0p9/run/eplusout.sql'\n",
    "data = read_sql(f,read='all')\n",
    "a0p9 = data.data.copy()\n",
    "\n",
    "f = '../osm/230813_EF_2_SC_PO_0/run/eplusout.sql'\n",
    "data = read_sql(f,read='all')\n",
    "oeste  = data.data.copy()\n",
    "\n",
    "f = '../osm/230813_EF_2_SC_PO_90/run/eplusout.sql'\n",
    "data = read_sql(f,read='all')\n",
    "norte = data.data.copy()\n",
    "\n",
    "f = '../osm/230813_EF_2_SC1/run/eplusout.sql'\n",
    "data = read_sql(f,read='all')\n",
    "sc1 = data.data.copy()\n",
    "\n",
    "f = '../osm/230813_EF_2_SC2/run/eplusout.sql'\n",
    "data = read_sql(f,read='all')\n",
    "sc2 = data.data.copy()\n",
    "\n"
   ]
  },
  {
   "cell_type": "code",
   "execution_count": null,
   "id": "97ef2a69-8cf1-4312-bb34-06c775d1827a",
   "metadata": {},
   "outputs": [],
   "source": []
  }
 ],
 "metadata": {
  "kernelspec": {
   "display_name": "Python 3 (ipykernel)",
   "language": "python",
   "name": "python3"
  },
  "language_info": {
   "codemirror_mode": {
    "name": "ipython",
    "version": 3
   },
   "file_extension": ".py",
   "mimetype": "text/x-python",
   "name": "python",
   "nbconvert_exporter": "python",
   "pygments_lexer": "ipython3",
   "version": "3.11.4"
  }
 },
 "nbformat": 4,
 "nbformat_minor": 5
}
